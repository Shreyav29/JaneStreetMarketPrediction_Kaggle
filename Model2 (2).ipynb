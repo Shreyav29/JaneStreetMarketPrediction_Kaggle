{
 "cells": [
  {
   "cell_type": "code",
   "execution_count": 1,
   "metadata": {},
   "outputs": [],
   "source": [
    "import os\n",
    "import gc  #This is garbage collector \n",
    "import sys #System \n",
    "import warnings\n",
    "warnings.filterwarnings('ignore')\n",
    "\n",
    "import numpy as np\n",
    "import pandas as pd\n",
    "import pickle\n",
    "        \n",
    "# from sklearn.preprocessing import StandardScaler as scale\n",
    "# from sklearn.decomposition import PCA\n",
    "# from sklearn.cluster import k_means\n",
    "\n",
    "\n",
    "from random import seed\n",
    "from random import randint\n",
    "seed(1)\n",
    "\n",
    "\n",
    "from matplotlib import pyplot as plt"
   ]
  },
  {
   "cell_type": "code",
   "execution_count": 7,
   "metadata": {},
   "outputs": [],
   "source": [
    "def read_data():\n",
    "    df = pd.read_csv(\"Inputs/train.csv\")\n",
    "    return df \n",
    "\n",
    "def convert_to_pickle(df, loc_with_name):\n",
    "    with open(loc_with_name, 'wb') as fp:\n",
    "        pickle.dump(df, fp)\n",
    "\n",
    "def read_pickle(loc_with_name):\n",
    "    with open (loc_with_name, 'rb') as fp:\n",
    "        df = pickle.load(fp)\n",
    "    return df \n",
    "\n",
    "def preprocess(df):\n",
    "    #Dataset length \n",
    "    org_len = len(df)\n",
    "\n",
    "    #Saving memory by changing the dtype\n",
    "    for i in df:\n",
    "        if df[i].dtype == np.float64:\n",
    "            if (((df[i] < .0001) & (df[i] > -.0001)).mean()) < .001:\n",
    "                df[i] = df[i].astype(np.float32)\n",
    "                gc.collect()\n",
    "\n",
    "    #Changing the data types \n",
    "    df.date = df.date.astype(np.int16)\n",
    "    df.ts_id = df.ts_id.astype(np.int32)\n",
    "    df.feature_0 = df.feature_0.astype(np.int32)\n",
    "\n",
    "    #Sorting with respect to date\n",
    "    df.sort_values(by = ['date','ts_id'],inplace = True)\n",
    "\n",
    "    #Create a action column - 1 if the resp is >0 and 0 if resp < 0 \n",
    "    df['action'] = np.where(df['resp'] > 0 , 1 , 0 )\n",
    "    df.action = df.action.astype(\"category\")\n",
    "    \n",
    "    return df\n",
    "\n",
    "\n",
    "def return_per_day(resp, weight, action):\n",
    "    returns = np.multiply(np.multiply(resp, weight), action)\n",
    "    return sum(returns)\n",
    "\n",
    "def sharpe_score(Pi_list):\n",
    "    num = sum(Pi_list)\n",
    "    den = np.sqrt(sum([i ** 2 for i in Pi_list]))\n",
    "    sharpe = (num/den) * np.sqrt(252/len(Pi_list))\n",
    "    utility_score = min(max(sharpe,0),6) * num\n",
    "    \n",
    "    return sharpe , utility_score\n",
    "\n",
    "def generate_random_block(data, size):\n",
    "    date_start = int(min(data.date))\n",
    "    date_end = int(max(data.date)- size)\n",
    "    \n",
    "    block_start = randint(date_start, date_end)\n",
    "    block_end = block_start + size \n",
    "    \n",
    "    block_data = data.loc[data.date.isin([i for i in range(block_start, block_end +1 )])]\n",
    "    \n",
    "    return block_data\n",
    "    \n",
    "def generate_sequential_blocks(data, size):\n",
    "    n_blocks = len(data)//size \n",
    "    date_start = int(min(data.date))\n",
    "    date_end = int(max(data.date)- size)\n",
    "    \n",
    "    blocks_list = []\n",
    "    \n",
    "    for i in range(date_start, date_end):\n",
    "        block_start = i \n",
    "        block_end = i+ size\n",
    "        block_data = data.loc[data.date.isin([i for i in range(block_start, block_end +1 )])]\n",
    "        \n",
    "        blocks_list.append(block_data)\n",
    "    return blocks_list\n",
    "\n",
    "\n",
    "def split_train_test(sub_data, split):\n",
    "    val = int(sub_data.date.nunique() * split)\n",
    "    date_start = int(min(sub_data.date))\n",
    "    date_end = int(max(sub_data.date))\n",
    "    train = sub_data.loc[sub_data.date.isin([i for i in range(date_start, date_start + val +1 )])]\n",
    "    test = sub_data.loc[sub_data.date.isin([i for i in range( date_start + val +1,date_end+1)])]\n",
    "    \n",
    "    return train , test \n",
    "\n",
    "\n",
    "def standardize(X_train, y_train, X_test, y_test, do_y):\n",
    "    mean = np.mean(X_train)\n",
    "    std = np.std(X_train)\n",
    "    X_train = (X_train - mean)/std\n",
    "    X_test = (X_test - mean)/std\n",
    "    mean_y = 0 \n",
    "    std_y = 0 \n",
    "    if do_y == True : \n",
    "        mean_y = np.mean(y_train)\n",
    "        std_y = np.std(y_train)\n",
    "        y_train = (y_train - mean_y)/std_y\n",
    "        y_test = (y_test - mean_y)/std_y\n",
    "    \n",
    "    return X_train, y_train, X_test, y_test, mean_y , std_y\n",
    "\n",
    "def inverse_standardize( y_pred,y_mean,y_std):\n",
    "    \n",
    "    for i in range(y_pred.shape[1]):\n",
    "        y_pred[:,i]  = (y_pred[:,i] * y_std[i] + y_mean[i])\n",
    "        \n",
    "    return y_pred \n",
    "\n",
    "def create_action(threshold, y_pred, y_test, test_date, test_weight):\n",
    "    #y_pred_df = pd.DataFrame(y_pred , columns = ['resp_1', 'resp_2', 'resp_3', 'resp_4', 'resp'], index = test_date)\n",
    "    y_pred_df = pd.DataFrame(y_pred , columns = ['resp'], index = test_date)\n",
    "    a = pd.DataFrame(test_weight, dtype = 'float')\n",
    "    a.index = test_date\n",
    "    y_test.index = test_date\n",
    "\n",
    "    y_pred_df['product'] = y_pred_df['resp'] * a['weight']\n",
    "    y_pred_df['weight'] = y_pred_df['product']/y_pred_df['resp']\n",
    "    y_pred_df['action'] = np.where(y_pred_df['resp'] > threshold , 1 , 0 )\n",
    "    print(\"Action counts are :\")\n",
    "    print(y_pred_df.action.value_counts())\n",
    "    \n",
    "    return y_pred_df, y_test \n",
    "\n",
    "\n",
    "def xgboost_helper(X_train, y_train, use_two_models=False):\n",
    "    \n",
    "    import xgboost as xgb\n",
    "    from xgboost import XGBClassifier\n",
    "    from sklearn.model_selection import train_test_split\n",
    "    from sklearn.metrics import accuracy_score\n",
    "\n",
    "    import optuna\n",
    "    from optuna.samplers import TPESampler\n",
    "\n",
    "    sampler = TPESampler(seed=666)\n",
    "\n",
    "    def create_model(trial):\n",
    "        max_depth = trial.suggest_int(\"max_depth\", 2, 12)\n",
    "        n_estimators = trial.suggest_int(\"n_estimators\", 2, 600)\n",
    "        learning_rate = trial.suggest_uniform('learning_rate', 0.0001, 0.99)\n",
    "        subsample = trial.suggest_uniform('subsample', 0.0001, 1.0)\n",
    "        colsample_bytree = trial.suggest_uniform('colsample_bytree', 0.0000001, 1)\n",
    "\n",
    "        model = XGBClassifier(\n",
    "            n_estimators=n_estimators, \n",
    "            max_depth=max_depth, \n",
    "            learning_rate=learning_rate,\n",
    "            subsample=subsample,\n",
    "            colsample_bytree=colsample_bytree,\n",
    "            random_state=666,\n",
    "            tree_method='gpu_hist'\n",
    "        )\n",
    "        return model\n",
    "\n",
    "    def objective(trial):\n",
    "        model = create_model(trial)\n",
    "        model.fit(X_train, y_train)\n",
    "        score = accuracy_score(\n",
    "            y_train, \n",
    "            model.predict(X_train)\n",
    "        )\n",
    "        return score\n",
    "\n",
    "    params1 = {\n",
    "        'max_depth': 8, \n",
    "        'n_estimators': 500, \n",
    "        'learning_rate': 0.01, \n",
    "        'subsample': 0.9, \n",
    "        'tree_method': 'gpu_hist',\n",
    "        'random_state': 666,\n",
    "        'n_jobs': 4,\n",
    "        'verbosity':2\n",
    "    }\n",
    "\n",
    "    params3 = {\n",
    "        'max_depth': 10, \n",
    "        'n_estimators': 500, \n",
    "        'learning_rate': 0.03, \n",
    "        'subsample': 0.9, \n",
    "        'colsample_bytree': 0.7,\n",
    "        'tree_method': 'gpu_hist',\n",
    "        'random_state': 666,\n",
    "        'n_jobs': 4,\n",
    "        'verbosity':2\n",
    "    }\n",
    "\n",
    "\n",
    "    model1 = XGBClassifier(**params1)\n",
    "    model1.fit(X_train, y_train)\n",
    "\n",
    "    print(\"Built model 1\")\n",
    "\n",
    "    if use_two_models:\n",
    "        model3 = XGBClassifier(**params3)\n",
    "        model3.fit(X_train, y_train)\n",
    "\n",
    "        return model1, model3\n",
    "    \n",
    "    else:\n",
    "        return model1\n",
    "\n",
    "    \n",
    "def sigmoid(x, tau=1):\n",
    "    return np.exp(-x/tau)/(1+ np.exp(-x/tau))"
   ]
  },
  {
   "cell_type": "markdown",
   "metadata": {},
   "source": [
    "# Sending the input features through a NN model to get resp, resp1,2,3,4"
   ]
  },
  {
   "cell_type": "code",
   "execution_count": 3,
   "metadata": {},
   "outputs": [
    {
     "name": "stdout",
     "output_type": "stream",
     "text": [
      "(1408577, 130) (1408577,) (981914, 130) (981914,)\n"
     ]
    },
    {
     "ename": "Exception",
     "evalue": "",
     "output_type": "error",
     "traceback": [
      "\u001b[0;31m---------------------------------------------------------------------------\u001b[0m",
      "\u001b[0;31mNameError\u001b[0m                                 Traceback (most recent call last)",
      "\u001b[0;32m<ipython-input-3-a4308241290c>\u001b[0m in \u001b[0;36m<module>\u001b[0;34m\u001b[0m\n\u001b[1;32m     48\u001b[0m \u001b[0;32mtry\u001b[0m\u001b[0;34m:\u001b[0m\u001b[0;34m\u001b[0m\u001b[0;34m\u001b[0m\u001b[0m\n\u001b[0;32m---> 49\u001b[0;31m     \u001b[0;32mdel\u001b[0m \u001b[0mfull_sub_data\u001b[0m\u001b[0;34m\u001b[0m\u001b[0;34m\u001b[0m\u001b[0m\n\u001b[0m\u001b[1;32m     50\u001b[0m \u001b[0;34m\u001b[0m\u001b[0m\n",
      "\u001b[0;31mNameError\u001b[0m: name 'full_sub_data' is not defined",
      "\nDuring handling of the above exception, another exception occurred:\n",
      "\u001b[0;31mException\u001b[0m                                 Traceback (most recent call last)",
      "\u001b[0;32m<ipython-input-3-a4308241290c>\u001b[0m in \u001b[0;36m<module>\u001b[0;34m\u001b[0m\n\u001b[1;32m     50\u001b[0m \u001b[0;34m\u001b[0m\u001b[0m\n\u001b[1;32m     51\u001b[0m \u001b[0;32mexcept\u001b[0m\u001b[0;34m:\u001b[0m\u001b[0;34m\u001b[0m\u001b[0;34m\u001b[0m\u001b[0m\n\u001b[0;32m---> 52\u001b[0;31m     \u001b[0;32mraise\u001b[0m \u001b[0mException\u001b[0m\u001b[0;34m\u001b[0m\u001b[0;34m\u001b[0m\u001b[0m\n\u001b[0m\u001b[1;32m     53\u001b[0m \u001b[0;34m\u001b[0m\u001b[0m\n",
      "\u001b[0;31mException\u001b[0m: "
     ]
    }
   ],
   "source": [
    "# #This is just 100 days data\n",
    "# #sub_data = read_pickle( 'Inputs/sub_train')\n",
    "# full_sub_data = pd.read_csv(\"Inputs/train.csv\")\n",
    "# #full_sub_data = sub_data\n",
    "# print(\"Read Data\")\n",
    "\n",
    "# full_sub_data = preprocess(full_sub_data)\n",
    "# full_sub_data = full_sub_data.fillna(method = 'ffill')\n",
    "# full_sub_data = full_sub_data.fillna(method = 'bfill')\n",
    "# print(\"Processed data\")\n",
    "\n",
    "# #Split into train and test \n",
    "# train, test = split_train_test(full_sub_data, split = 0.6)\n",
    "# print(train.shape, test.shape)\n",
    "\n",
    "\n",
    "# #Save train and test data \n",
    "# convert_to_pickle(train, 'Inputs/train_60')\n",
    "# convert_to_pickle(test, 'Inputs/test_40')\n",
    "\n",
    "\n",
    "\n",
    "#Read the test and train data\n",
    "train = read_pickle( 'Inputs/train_60')\n",
    "test = read_pickle( 'Inputs/test_40')\n",
    "\n",
    "\n",
    "#Getting y_train and y_test\n",
    "X_train = train[train.columns.difference(['date', 'weight','resp_1', 'resp_2', 'resp_3', 'resp_4', 'resp', 'ts_id', 'action'])]\n",
    "#y_train = train[['resp_1', 'resp_2', 'resp_3', 'resp_4', 'resp']]\n",
    "y_train = train.action\n",
    "\n",
    "train_date = train['date']\n",
    "train_weight = train['weight']\n",
    "\n",
    "X_test = test[test.columns.difference(['date', 'weight','resp_1', 'resp_2', 'resp_3', 'resp_4', 'resp', 'ts_id', 'action'])]\n",
    "#y_test = test[['resp_1', 'resp_2', 'resp_3', 'resp_4', 'resp']]\n",
    "y_test = test.action\n",
    "test_date = test['date']\n",
    "test_weight = test['weight']\n",
    "\n",
    "#Standardize the data  \n",
    "X_train, y_train, X_test, y_test, y_mean , Y_std   = standardize(X_train, y_train, X_test, y_test, do_y = False )\n",
    "\n",
    "print(X_train.shape, y_train.shape, X_test.shape, y_test.shape)\n",
    "\n",
    "#Deleting data \n",
    "try:\n",
    "    del full_sub_data\n",
    "    \n",
    "except:\n",
    "    raise Exception\n",
    "    "
   ]
  },
  {
   "cell_type": "code",
   "execution_count": 15,
   "metadata": {},
   "outputs": [],
   "source": [
    "test['sigmoid_resp'] = sigmoid(test['resp'], tau = 0.05)\n",
    "train['sigmoid_resp'] = sigmoid(train['resp'], tau = 0.05)"
   ]
  },
  {
   "cell_type": "code",
   "execution_count": 19,
   "metadata": {},
   "outputs": [],
   "source": [
    "y_train = train['sigmoid_resp']\n",
    "y_test = test['sigmoid_resp']"
   ]
  },
  {
   "cell_type": "code",
   "execution_count": 20,
   "metadata": {},
   "outputs": [
    {
     "data": {
      "text/plain": [
       "0          0.468689\n",
       "1          0.548803\n",
       "2          0.382393\n",
       "3          0.515995\n",
       "4          0.513015\n",
       "             ...   \n",
       "1408572    0.383514\n",
       "1408573    0.729363\n",
       "1408574    0.431640\n",
       "1408575    0.496756\n",
       "1408576    0.483426\n",
       "Name: sigmoid_resp, Length: 1408577, dtype: float64"
      ]
     },
     "execution_count": 20,
     "metadata": {},
     "output_type": "execute_result"
    }
   ],
   "source": [
    "y_train"
   ]
  },
  {
   "cell_type": "code",
   "execution_count": null,
   "metadata": {},
   "outputs": [],
   "source": []
  },
  {
   "cell_type": "markdown",
   "metadata": {},
   "source": [
    "# Model\n"
   ]
  },
  {
   "cell_type": "code",
   "execution_count": 19,
   "metadata": {},
   "outputs": [
    {
     "name": "stdout",
     "output_type": "stream",
     "text": [
      "Cross entropy loss for train and test is :\n",
      "0.5681996795347362 0.5117617225133769\n",
      "Train data Mean Squared Error is 0.4318003204652639\n",
      "Test data Mean Squared Error is 0.4882382774866231\n"
     ]
    }
   ],
   "source": [
    "# from sklearn.neural_network import MLPRegressor, MLPClassifier\n",
    "\n",
    "\n",
    "# # regr = MLPRegressor(random_state=1, max_iter=500, alpha=1).fit(X_train, y_train)\n",
    "# # y_pred_train = regr.predict(X_train)\n",
    "# # y_pred = regr.predict(X_test)\n",
    "\n",
    "\n",
    "# clf = MLPClassifier(random_state=1, max_iter=300).fit(X_train, y_train)\n",
    "# y_pred_train = clf.predict(X_train)\n",
    "# y_pred = clf.predict(X_test)\n",
    "\n",
    "\n",
    "# #Performance metrics \n",
    "# from sklearn.metrics import mean_squared_error, mean_absolute_error, hinge_loss\n",
    "\n",
    "# print('Cross entropy loss for train and test is :')\n",
    "# print(clf.score(X_train, y_train), clf.score(X_test, y_test))\n",
    "\n",
    "# # print('R squared  for train and test is :')\n",
    "# # print(regr.score(X_train, y_train), regr.score(X_test, y_test))\n",
    "\n",
    "\n",
    "# MSE_error = mean_squared_error(y_train, y_pred_train)\n",
    "# print('Train data Mean Squared Error is {}'.format(MSE_error))\n",
    "\n",
    "# MSE_error = mean_squared_error(y_test, y_pred)\n",
    "# print('Test data Mean Squared Error is {}'.format(MSE_error))\n",
    "#y_pred_probs = clf.predict_proba(X_test)"
   ]
  },
  {
   "cell_type": "code",
   "execution_count": 6,
   "metadata": {},
   "outputs": [
    {
     "name": "stdout",
     "output_type": "stream",
     "text": [
      "Built model 1\n"
     ]
    }
   ],
   "source": [
    "# XG Boost model \n",
    "\n",
    "model_xgboost = xgboost_helper(X_train, y_train)\n",
    "y_pred_xg = model_xgboost.predict(X_test)"
   ]
  },
  {
   "cell_type": "code",
   "execution_count": 11,
   "metadata": {},
   "outputs": [
    {
     "data": {
      "text/plain": [
       "(array([414586.,      0.,      0.,      0.,      0.,      0.,      0.,\n",
       "             0.,      0., 567328.]),\n",
       " array([0. , 0.1, 0.2, 0.3, 0.4, 0.5, 0.6, 0.7, 0.8, 0.9, 1. ]),\n",
       " <BarContainer object of 10 artists>)"
      ]
     },
     "execution_count": 11,
     "metadata": {},
     "output_type": "execute_result"
    },
    {
     "data": {
      "image/png": "[encoded data removed]",
      "text/plain": [
       "<Figure size 432x288 with 1 Axes>"
      ]
     },
     "metadata": {
      "needs_background": "light"
     },
     "output_type": "display_data"
    }
   ],
   "source": [
    "plt.hist(y_pred_xg)"
   ]
  },
  {
   "cell_type": "code",
   "execution_count": 21,
   "metadata": {},
   "outputs": [],
   "source": [
    "y_pred_xg_proba = model_xgboost.predict_proba(X_test)"
   ]
  },
  {
   "cell_type": "code",
   "execution_count": 23,
   "metadata": {},
   "outputs": [],
   "source": [
    "convert_to_pickle(model_xgboost, 'Inputs/model_xgboost')"
   ]
  },
  {
   "cell_type": "code",
   "execution_count": null,
   "metadata": {},
   "outputs": [],
   "source": []
  },
  {
   "cell_type": "code",
   "execution_count": 27,
   "metadata": {},
   "outputs": [
    {
     "data": {
      "text/plain": [
       "array([0.50686157, 0.5304707 , 0.5238733 , ..., 0.5017609 , 0.5609101 ,\n",
       "       0.50689864], dtype=float32)"
      ]
     },
     "execution_count": 27,
     "metadata": {},
     "output_type": "execute_result"
    }
   ],
   "source": [
    "y_pred_xg_proba, y_pred_xg\n",
    "\n",
    "y_new = y_pred_xg_proba[:,1]\n",
    "y_new"
   ]
  },
  {
   "cell_type": "code",
   "execution_count": 24,
   "metadata": {},
   "outputs": [
    {
     "data": {
      "text/plain": [
       "(array([5.00000e+00, 3.00000e+00, 1.00000e+00, 7.00000e+00, 2.30000e+01,\n",
       "        4.00000e+01, 6.60000e+01, 1.13000e+02, 1.31000e+02, 1.92000e+02,\n",
       "        2.69000e+02, 3.81000e+02, 5.60000e+02, 7.87000e+02, 1.17500e+03,\n",
       "        1.68700e+03, 2.29400e+03, 3.36800e+03, 5.50400e+03, 1.11060e+04,\n",
       "        2.03800e+04, 3.48950e+04, 6.95730e+04, 1.35785e+05, 2.79414e+05,\n",
       "        2.53458e+05, 8.56340e+04, 3.26960e+04, 1.55470e+04, 8.73800e+03,\n",
       "        5.41500e+03, 3.52500e+03, 2.47400e+03, 1.72800e+03, 1.22100e+03,\n",
       "        8.78000e+02, 7.39000e+02, 5.35000e+02, 3.95000e+02, 3.04000e+02,\n",
       "        2.14000e+02, 1.59000e+02, 1.35000e+02, 1.07000e+02, 7.50000e+01,\n",
       "        5.10000e+01, 4.10000e+01, 3.80000e+01, 3.90000e+01, 9.00000e+00]),\n",
       " array([0.10912198, 0.12475786, 0.14039375, 0.15602964, 0.17166553,\n",
       "        0.18730143, 0.2029373 , 0.2185732 , 0.23420909, 0.24984497,\n",
       "        0.26548088, 0.28111675, 0.29675263, 0.31238854, 0.32802442,\n",
       "        0.3436603 , 0.3592962 , 0.37493208, 0.39056796, 0.40620387,\n",
       "        0.42183974, 0.43747565, 0.45311153, 0.4687474 , 0.4843833 ,\n",
       "        0.5000192 , 0.5156551 , 0.53129095, 0.54692686, 0.56256276,\n",
       "        0.5781986 , 0.5938345 , 0.6094704 , 0.6251063 , 0.6407422 ,\n",
       "        0.6563781 , 0.67201394, 0.68764985, 0.70328575, 0.71892166,\n",
       "        0.7345575 , 0.7501934 , 0.7658293 , 0.7814652 , 0.7971011 ,\n",
       "        0.812737  , 0.82837284, 0.84400874, 0.85964465, 0.8752805 ,\n",
       "        0.8909164 ], dtype=float32),\n",
       " <BarContainer object of 50 artists>)"
      ]
     },
     "execution_count": 24,
     "metadata": {},
     "output_type": "execute_result"
    },
    {
     "data": {
      "image/png": "[encoded data removed]",
      "text/plain": [
       "<Figure size 432x288 with 1 Axes>"
      ]
     },
     "metadata": {
      "needs_background": "light"
     },
     "output_type": "display_data"
    }
   ],
   "source": [
    "plt.hist(y_pred_xg_proba[:,0], bins = 50)"
   ]
  },
  {
   "cell_type": "code",
   "execution_count": 21,
   "metadata": {},
   "outputs": [
    {
     "name": "stdout",
     "output_type": "stream",
     "text": [
      "Train data Mean Absolute Error is 0.4318003204652639\n",
      "Test data Mean Absolute Error is 0.4882382774866231\n"
     ]
    }
   ],
   "source": [
    "MAE_error = mean_absolute_error(y_train, y_pred_train)\n",
    "print('Train data Mean Absolute Error is {}'.format(MAE_error))\n",
    "\n",
    "MAE_error = mean_absolute_error(y_test, y_pred)\n",
    "print('Test data Mean Absolute Error is {}'.format(MAE_error))"
   ]
  },
  {
   "cell_type": "code",
   "execution_count": 22,
   "metadata": {},
   "outputs": [
    {
     "data": {
      "text/plain": [
       "1408577    0\n",
       "1408578    0\n",
       "1408579    0\n",
       "1408580    1\n",
       "1408581    0\n",
       "          ..\n",
       "2390486    1\n",
       "2390487    0\n",
       "2390488    1\n",
       "2390489    0\n",
       "2390490    0\n",
       "Name: action, Length: 981914, dtype: category\n",
       "Categories (2, int64): [0, 1]"
      ]
     },
     "execution_count": 22,
     "metadata": {},
     "output_type": "execute_result"
    }
   ],
   "source": [
    "y_test"
   ]
  },
  {
   "cell_type": "markdown",
   "metadata": {},
   "source": [
    "# Use the predicted action to find the sharpe of the data"
   ]
  },
  {
   "cell_type": "code",
   "execution_count": 28,
   "metadata": {},
   "outputs": [
    {
     "name": "stdout",
     "output_type": "stream",
     "text": [
      "Sharpe is :-0.7414656217747798\n",
      "Utility Score is :-0.0\n"
     ]
    }
   ],
   "source": [
    "#Running for full data at once\n",
    "#y_pred_df,y_test = create_action(0, y_pred, y_test, test_date, test_weight)\n",
    "Pi_list = []\n",
    "y_pred_df = pd.DataFrame(y_pred_xg, columns = ['action'], index = test_date)\n",
    "\n",
    "for date in y_pred_df.index.unique():\n",
    "    today = y_pred_df[y_pred_df.index == date]\n",
    "    today_test = test[test.date == date]\n",
    "    \n",
    "    Pi = return_per_day(np.array(today_test['resp']), np.array(today_test['weight']), np.array(today['action']))\n",
    "    Pi_list.append(Pi)\n",
    "\n",
    "\n",
    "sharpe, util_score = sharpe_score(Pi_list)\n",
    "print(\"Sharpe is :\" + str(sharpe)) \n",
    "print(\"Utility Score is :\" + str(util_score) )"
   ]
  },
  {
   "cell_type": "code",
   "execution_count": null,
   "metadata": {},
   "outputs": [],
   "source": []
  },
  {
   "cell_type": "code",
   "execution_count": null,
   "metadata": {},
   "outputs": [],
   "source": []
  },
  {
   "cell_type": "code",
   "execution_count": null,
   "metadata": {},
   "outputs": [],
   "source": []
  },
  {
   "cell_type": "code",
   "execution_count": null,
   "metadata": {},
   "outputs": [],
   "source": []
  },
  {
   "cell_type": "code",
   "execution_count": null,
   "metadata": {},
   "outputs": [],
   "source": []
  },
  {
   "cell_type": "code",
   "execution_count": null,
   "metadata": {},
   "outputs": [],
   "source": [
    "MLP Regressor \n",
    "Sharpe is :1.644709071733926\n",
    "Utility Score is :559.5978351003276\n",
    "    \n",
    "XGBoost action predictor - Here if we see the predict proba ..the values are all around 0.49 and 0.55 , this means the model is too sensitive for small chnages in the values. \n",
    "So we need to dampen the data such that we can vary the threshold and still the output would not vary a lot \n",
    "Sharpe is :2.699589401656477\n",
    "Utility Score is :1873.4041631767134\n",
    "    \n"
   ]
  },
  {
   "cell_type": "code",
   "execution_count": null,
   "metadata": {},
   "outputs": [],
   "source": []
  },
  {
   "cell_type": "code",
   "execution_count": 33,
   "metadata": {},
   "outputs": [
    {
     "ename": "TypeError",
     "evalue": "'float' object cannot be interpreted as an integer",
     "output_type": "error",
     "traceback": [
      "\u001b[0;31m---------------------------------------------------------------------------\u001b[0m",
      "\u001b[0;31mTypeError\u001b[0m                                 Traceback (most recent call last)",
      "\u001b[0;32m<ipython-input-33-9d339c6f085f>\u001b[0m in \u001b[0;36m<module>\u001b[0;34m\u001b[0m\n\u001b[0;32m----> 1\u001b[0;31m \u001b[0mnp\u001b[0m\u001b[0;34m.\u001b[0m\u001b[0mrandom\u001b[0m\u001b[0;34m.\u001b[0m\u001b[0mrandn\u001b[0m\u001b[0;34m(\u001b[0m\u001b[0;34m-\u001b[0m\u001b[0;36m0.4\u001b[0m\u001b[0;34m,\u001b[0m\u001b[0;36m0.4\u001b[0m\u001b[0;34m)\u001b[0m\u001b[0;34m\u001b[0m\u001b[0;34m\u001b[0m\u001b[0m\n\u001b[0m",
      "\u001b[0;32mmtrand.pyx\u001b[0m in \u001b[0;36mnumpy.random.mtrand.RandomState.randn\u001b[0;34m()\u001b[0m\n",
      "\u001b[0;32mmtrand.pyx\u001b[0m in \u001b[0;36mnumpy.random.mtrand.RandomState.standard_normal\u001b[0;34m()\u001b[0m\n",
      "\u001b[0;32m_common.pyx\u001b[0m in \u001b[0;36mnumpy.random._common.cont\u001b[0;34m()\u001b[0m\n",
      "\u001b[0;31mTypeError\u001b[0m: 'float' object cannot be interpreted as an integer"
     ]
    }
   ],
   "source": [
    "np.random.randn(-0.4,0.4)"
   ]
  },
  {
   "cell_type": "code",
   "execution_count": 37,
   "metadata": {},
   "outputs": [
    {
     "data": {
      "text/plain": [
       "(array([3.00000e+00, 2.00000e+00, 0.00000e+00, 0.00000e+00, 0.00000e+00,\n",
       "        1.00000e+00, 1.00000e+00, 0.00000e+00, 0.00000e+00, 4.00000e+00,\n",
       "        2.00000e+00, 1.00000e+00, 4.00000e+00, 1.00000e+00, 4.00000e+00,\n",
       "        5.00000e+00, 6.00000e+00, 1.10000e+01, 8.00000e+00, 1.00000e+01,\n",
       "        2.10000e+01, 2.60000e+01, 2.80000e+01, 3.20000e+01, 4.90000e+01,\n",
       "        4.80000e+01, 4.20000e+01, 7.70000e+01, 8.20000e+01, 1.05000e+02,\n",
       "        1.28000e+02, 1.97000e+02, 2.34000e+02, 2.76000e+02, 3.41000e+02,\n",
       "        4.49000e+02, 5.76000e+02, 7.33000e+02, 9.72000e+02, 1.20500e+03,\n",
       "        1.59300e+03, 2.15500e+03, 3.00600e+03, 4.00800e+03, 5.95700e+03,\n",
       "        9.25200e+03, 1.42650e+04, 2.42050e+04, 4.66280e+04, 1.10955e+05,\n",
       "        3.35294e+05, 2.35888e+05, 8.07340e+04, 3.84020e+04, 2.08960e+04,\n",
       "        1.26400e+04, 8.18000e+03, 5.72000e+03, 4.03500e+03, 2.95400e+03,\n",
       "        2.09600e+03, 1.60300e+03, 1.22700e+03, 9.47000e+02, 7.31000e+02,\n",
       "        5.79000e+02, 4.61000e+02, 3.96000e+02, 3.29000e+02, 2.51000e+02,\n",
       "        1.79000e+02, 1.27000e+02, 1.24000e+02, 9.40000e+01, 6.30000e+01,\n",
       "        5.20000e+01, 4.80000e+01, 3.00000e+01, 2.30000e+01, 2.30000e+01,\n",
       "        1.90000e+01, 7.00000e+00, 1.50000e+01, 8.00000e+00, 1.30000e+01,\n",
       "        6.00000e+00, 5.00000e+00, 2.00000e+00, 0.00000e+00, 2.00000e+00,\n",
       "        0.00000e+00, 0.00000e+00, 0.00000e+00, 1.00000e+00, 0.00000e+00,\n",
       "        1.00000e+00, 0.00000e+00, 0.00000e+00, 0.00000e+00, 1.00000e+00]),\n",
       " array([-0.46172722, -0.45264389, -0.44356056, -0.43447724, -0.42539391,\n",
       "        -0.41631058, -0.40722725, -0.39814393, -0.3890606 , -0.37997727,\n",
       "        -0.37089395, -0.36181062, -0.35272729, -0.34364397, -0.33456064,\n",
       "        -0.32547731, -0.31639399, -0.30731066, -0.29822733, -0.28914401,\n",
       "        -0.28006068, -0.27097735, -0.26189403, -0.2528107 , -0.24372737,\n",
       "        -0.23464405, -0.22556072, -0.21647739, -0.20739407, -0.19831074,\n",
       "        -0.18922741, -0.18014409, -0.17106076, -0.16197743, -0.15289411,\n",
       "        -0.14381078, -0.13472745, -0.12564412, -0.1165608 , -0.10747747,\n",
       "        -0.09839414, -0.08931082, -0.08022749, -0.07114416, -0.06206084,\n",
       "        -0.05297751, -0.04389418, -0.03481086, -0.02572753, -0.0166442 ,\n",
       "        -0.00756088,  0.00152245,  0.01060578,  0.0196891 ,  0.02877243,\n",
       "         0.03785576,  0.04693908,  0.05602241,  0.06510574,  0.07418906,\n",
       "         0.08327239,  0.09235572,  0.10143904,  0.11052237,  0.1196057 ,\n",
       "         0.12868903,  0.13777235,  0.14685568,  0.15593901,  0.16502233,\n",
       "         0.17410566,  0.18318899,  0.19227231,  0.20135564,  0.21043897,\n",
       "         0.21952229,  0.22860562,  0.23768895,  0.24677227,  0.2558556 ,\n",
       "         0.26493893,  0.27402225,  0.28310558,  0.29218891,  0.30127223,\n",
       "         0.31035556,  0.31943889,  0.32852221,  0.33760554,  0.34668887,\n",
       "         0.35577219,  0.36485552,  0.37393885,  0.38302217,  0.3921055 ,\n",
       "         0.40118883,  0.41027216,  0.41935548,  0.42843881,  0.43752214,\n",
       "         0.44660546]),\n",
       " <BarContainer object of 100 artists>)"
      ]
     },
     "execution_count": 37,
     "metadata": {},
     "output_type": "execute_result"
    },
    {
     "data": {
      "image/png": "[encoded data removed]",
      "text/plain": [
       "<Figure size 432x288 with 1 Axes>"
      ]
     },
     "metadata": {
      "needs_background": "light"
     },
     "output_type": "display_data"
    }
   ],
   "source": [
    "plt.hist(test.resp, bins = 100)"
   ]
  },
  {
   "cell_type": "code",
   "execution_count": 43,
   "metadata": {},
   "outputs": [],
   "source": []
  },
  {
   "cell_type": "code",
   "execution_count": 48,
   "metadata": {},
   "outputs": [],
   "source": []
  },
  {
   "cell_type": "code",
   "execution_count": 49,
   "metadata": {},
   "outputs": [
    {
     "data": {
      "text/plain": [
       "count    981914.000000\n",
       "mean          0.498884\n",
       "std           0.102312\n",
       "min           0.000132\n",
       "25%           0.465160\n",
       "50%           0.500007\n",
       "75%           0.533666\n",
       "max           0.999902\n",
       "Name: sigmoid_resp, dtype: float64"
      ]
     },
     "execution_count": 49,
     "metadata": {},
     "output_type": "execute_result"
    }
   ],
   "source": [
    "test.sigmoid_resp.describe()"
   ]
  },
  {
   "cell_type": "code",
   "execution_count": 50,
   "metadata": {},
   "outputs": [
    {
     "data": {
      "text/plain": [
       "(array([  202.,   299.,   358.,   465.,   480.,   487.,   525.,   586.,\n",
       "          587.,   618.,   705.,   757.,   767.,   837.,   924.,   983.,\n",
       "         1070.,  1190.,  1251.,  1311.,  1475.,  1559.,  1710.,  1863.,\n",
       "         1971.,  2173.,  2382.,  2548.,  2856.,  3135.,  3406.,  3826.,\n",
       "         4179.,  4836.,  5400.,  6217.,  7015.,  8072.,  9265., 10720.,\n",
       "        12454., 14693., 17423., 21239., 26297., 33586., 43157., 56218.,\n",
       "        74437., 92550., 93557., 76462., 58014., 44132., 33713., 26210.,\n",
       "        21145., 17117., 14536., 12150., 10284.,  8847.,  7566.,  6649.,\n",
       "         5782.,  5224.,  4704.,  4175.,  3741.,  3218.,  3043.,  2862.,\n",
       "         2459.,  2307.,  2038.,  1860.,  1705.,  1483.,  1381.,  1343.,\n",
       "         1160.,  1170.,  1078.,   992.,   911.,   838.,   753.,   736.,\n",
       "          648.,   653.,   610.,   551.,   517.,   474.,   433.,   387.,\n",
       "          395.,   328.,   262.,   247.]),\n",
       " array([1.32061700e-04, 1.01297651e-02, 2.01274685e-02, 3.01251719e-02,\n",
       "        4.01228753e-02, 5.01205787e-02, 6.01182821e-02, 7.01159854e-02,\n",
       "        8.01136888e-02, 9.01113922e-02, 1.00109096e-01, 1.10106799e-01,\n",
       "        1.20104502e-01, 1.30102206e-01, 1.40099909e-01, 1.50097613e-01,\n",
       "        1.60095316e-01, 1.70093019e-01, 1.80090723e-01, 1.90088426e-01,\n",
       "        2.00086130e-01, 2.10083833e-01, 2.20081536e-01, 2.30079240e-01,\n",
       "        2.40076943e-01, 2.50074646e-01, 2.60072350e-01, 2.70070053e-01,\n",
       "        2.80067757e-01, 2.90065460e-01, 3.00063163e-01, 3.10060867e-01,\n",
       "        3.20058570e-01, 3.30056274e-01, 3.40053977e-01, 3.50051680e-01,\n",
       "        3.60049384e-01, 3.70047087e-01, 3.80044791e-01, 3.90042494e-01,\n",
       "        4.00040197e-01, 4.10037901e-01, 4.20035604e-01, 4.30033308e-01,\n",
       "        4.40031011e-01, 4.50028714e-01, 4.60026418e-01, 4.70024121e-01,\n",
       "        4.80021824e-01, 4.90019528e-01, 5.00017231e-01, 5.10014935e-01,\n",
       "        5.20012638e-01, 5.30010341e-01, 5.40008045e-01, 5.50005748e-01,\n",
       "        5.60003452e-01, 5.70001155e-01, 5.79998858e-01, 5.89996562e-01,\n",
       "        5.99994265e-01, 6.09991969e-01, 6.19989672e-01, 6.29987375e-01,\n",
       "        6.39985079e-01, 6.49982782e-01, 6.59980486e-01, 6.69978189e-01,\n",
       "        6.79975892e-01, 6.89973596e-01, 6.99971299e-01, 7.09969003e-01,\n",
       "        7.19966706e-01, 7.29964409e-01, 7.39962113e-01, 7.49959816e-01,\n",
       "        7.59957519e-01, 7.69955223e-01, 7.79952926e-01, 7.89950630e-01,\n",
       "        7.99948333e-01, 8.09946036e-01, 8.19943740e-01, 8.29941443e-01,\n",
       "        8.39939147e-01, 8.49936850e-01, 8.59934553e-01, 8.69932257e-01,\n",
       "        8.79929960e-01, 8.89927664e-01, 8.99925367e-01, 9.09923070e-01,\n",
       "        9.19920774e-01, 9.29918477e-01, 9.39916181e-01, 9.49913884e-01,\n",
       "        9.59911587e-01, 9.69909291e-01, 9.79906994e-01, 9.89904697e-01,\n",
       "        9.99902401e-01]),\n",
       " <BarContainer object of 100 artists>)"
      ]
     },
     "execution_count": 50,
     "metadata": {},
     "output_type": "execute_result"
    },
    {
     "data": {
      "image/png": "[encoded data removed]",
      "text/plain": [
       "<Figure size 432x288 with 1 Axes>"
      ]
     },
     "metadata": {
      "needs_background": "light"
     },
     "output_type": "display_data"
    }
   ],
   "source": [
    "plt.hist(test.sigmoid_resp, bins = 100)"
   ]
  },
  {
   "cell_type": "code",
   "execution_count": null,
   "metadata": {},
   "outputs": [],
   "source": []
  }
 ],
 "metadata": {
  "kernelspec": {
   "display_name": "js",
   "language": "python",
   "name": "js"
  },
  "language_info": {
   "codemirror_mode": {
    "name": "ipython",
    "version": 3
   },
   "file_extension": ".py",
   "mimetype": "text/x-python",
   "name": "python",
   "nbconvert_exporter": "python",
   "pygments_lexer": "ipython3",
   "version": "3.7.9"
  }
 },
 "nbformat": 4,
 "nbformat_minor": 4
}
