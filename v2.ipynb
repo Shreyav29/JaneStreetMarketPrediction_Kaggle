{
 "cells": [
  {
   "cell_type": "code",
   "execution_count": 1,
   "metadata": {},
   "outputs": [],
   "source": [
    "import os\n",
    "import gc  #This is garbage collector \n",
    "import sys #System \n",
    "import warnings\n",
    "warnings.filterwarnings('ignore')\n",
    "\n",
    "import numpy as np\n",
    "import pandas as pd\n",
    "import pickle\n",
    "\n",
    "import matplotlib.pyplot as plt\n",
    "import matplotlib.gridspec as gridspec\n",
    "import seaborn as sns\n",
    "import plotly.express as px\n",
    "import plotly.graph_objects as go\n",
    "%matplotlib inline\n",
    "sns.set_style('darkgrid')\n",
    "pd.set_option('display.max_columns', 140)\n",
    "\n",
    "from sklearn.preprocessing import StandardScaler as scale\n",
    "from sklearn.decomposition import PCA\n",
    "from sklearn.cluster import k_means"
   ]
  },
  {
   "cell_type": "code",
   "execution_count": 2,
   "metadata": {},
   "outputs": [],
   "source": [
    "#Reading inputs \n",
    "with open ('Byproducts/df_pre_pca', 'rb') as fp:\n",
    "    df_pre_pca = pickle.load(fp)\n",
    "\n",
    "with open ('Byproducts/pca_object', 'rb') as fp:\n",
    "    pca = pickle.load(fp)\n",
    "    \n",
    "with open ('Byproducts/high_null_list', 'rb') as fp:\n",
    "    high_null_list = pickle.load(fp)\n",
    "    \n",
    "with open ('Byproducts/scalar_object', 'rb') as fp:\n",
    "    scaler = pickle.load(fp)\n",
    "    \n",
    "n_components = 30 \n",
    "pc_names = ['PC'+str(i) for i in range(n_components)]\n",
    "\n",
    "with open ('Byproducts/model1_xgboost', 'rb') as fp:\n",
    "    model1 = pickle.load(fp)\n",
    "    \n",
    "with open ('Byproducts/model3_xgboost', 'rb') as fp:\n",
    "    model3 = pickle.load(fp)\n"
   ]
  },
  {
   "cell_type": "code",
   "execution_count": null,
   "metadata": {},
   "outputs": [],
   "source": []
  },
  {
   "cell_type": "code",
   "execution_count": 3,
   "metadata": {},
   "outputs": [],
   "source": [
    "import janestreet\n",
    "\n",
    "env = janestreet.make_env()\n",
    "iter_test = env.iter_test()\n"
   ]
  },
  {
   "cell_type": "code",
   "execution_count": 4,
   "metadata": {},
   "outputs": [],
   "source": [
    "cnt = 0 \n",
    "for (test_df, sample_prediction_df) in iter_test:\n",
    "    X_test = test_df.loc[:, test_df.columns.str.contains('feature')]\n",
    "\n",
    "    #preprocess X_test\n",
    "    X_test = X_test.drop(columns = high_null_list, axis=1)\n",
    "    X_test.fillna(df_pre_pca.mean(), inplace = True)\n",
    "    X_test = scaler.transform(X_test[X_test.columns.values])\n",
    "    X_test = pd.DataFrame(pca.transform(X_test), columns = pc_names  )\n",
    "\n",
    "\n",
    "    y_preds = model1.predict(X_test) + model3.predict(X_test)\n",
    "    if y_preds == 2:\n",
    "        y_preds = np.array([1])\n",
    "    else:\n",
    "        y_preds = np.array([0])\n",
    "\n",
    "    sample_prediction_df.action = y_preds\n",
    "    env.predict(sample_prediction_df)\n",
    "    cnt = cnt + 1\n"
   ]
  },
  {
   "cell_type": "code",
   "execution_count": 5,
   "metadata": {},
   "outputs": [
    {
     "data": {
      "text/plain": [
       "[   action\n",
       " 0       1,\n",
       "    action\n",
       " 1       0,\n",
       "    action\n",
       " 2       1,\n",
       "    action\n",
       " 3       1,\n",
       "    action\n",
       " 4       0]"
      ]
     },
     "execution_count": 5,
     "metadata": {},
     "output_type": "execute_result"
    }
   ],
   "source": [
    "env.predictions"
   ]
  },
  {
   "cell_type": "code",
   "execution_count": null,
   "metadata": {},
   "outputs": [],
   "source": []
  }
 ],
 "metadata": {
  "kernelspec": {
   "display_name": "js",
   "language": "python",
   "name": "js"
  },
  "language_info": {
   "codemirror_mode": {
    "name": "ipython",
    "version": 3
   },
   "file_extension": ".py",
   "mimetype": "text/x-python",
   "name": "python",
   "nbconvert_exporter": "python",
   "pygments_lexer": "ipython3",
   "version": "3.7.9"
  }
 },
 "nbformat": 4,
 "nbformat_minor": 4
}
